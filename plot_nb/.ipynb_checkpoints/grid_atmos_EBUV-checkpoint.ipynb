{
 "cells": [
  {
   "cell_type": "code",
   "execution_count": 1,
   "metadata": {},
   "outputs": [
    {
     "name": "stderr",
     "output_type": "stream",
     "text": [
      "/anaconda3/lib/python3.7/site-packages/matplotlib/__init__.py:846: MatplotlibDeprecationWarning: \n",
      "The text.latex.unicode rcparam was deprecated in Matplotlib 2.2 and will be removed in 3.1.\n",
      "  \"2.2\", name=key, obj_type=\"rcparam\", addendum=addendum)\n"
     ]
    }
   ],
   "source": [
    "import numpy as np\n",
    "import matplotlib.pyplot as plt\n",
    "from matplotlib import ticker\n",
    "from matplotlib import rcParams\n",
    "from matplotlib import colors\n",
    "from helita.sim import rh15d\n",
    "import os\n",
    "import xarray as xr\n",
    "from scipy.integrate.quadrature import cumtrapz\n",
    "from scipy.interpolate import interp1d\n",
    "import astropy.constants as const\n",
    "from helita.utils.utilsmath import planck, voigt\n",
    "rcParams['text.usetex'] = True\n",
    "rcParams['text.latex.unicode'] = True\n",
    "rcParams['font.family'] = 'serif'\n",
    "import scipy.io\n",
    "import h5py\n",
    "from mpl_toolkits.axes_grid1.inset_locator import inset_axes\n",
    "\n",
    "C=np.array([[83,188,208],[84,188,207],[86,189,206],[87,189,204],[89,190,203],[91,190,202],[92,191,201],[94,191,200],[95,191,198],[97,192,197],[99,192,196],[100,193,195],[102,193,194],[103,194,193],[105,194,191],[106,195,190],[108,195,189],[110,196,188],[111,196,187],[113,197,186],[114,197,184],[116,197,183],[118,198,182],[119,198,181],[121,199,180],[122,199,178],[124,200,177],[126,200,176],[127,201,175],[129,201,174],[130,202,173],[132,202,171],[133,203,170],[135,203,169],[137,203,168],[138,204,167],[140,204,166],[141,205,164],[143,205,163],[145,206,162],[146,206,161],[148,207,160],[149,207,158],[151,208,157],[153,208,156],[154,209,155],[156,209,154],[157,209,153],[159,210,151],[160,210,150],[162,211,149],[164,211,148],[165,212,147],[167,212,146],[168,213,144],[170,213,143],[172,214,142],[173,214,141],[175,214,140],[176,215,138],[178,215,137],[180,216,136],[181,216,135],[183,217,134],[184,217,133],[185,217,133],[186,217,133],[187,217,133],[189,217,133],[190,217,133],[191,216,133],[192,216,134],[193,216,134],[194,216,134],[195,216,134],[196,216,134],[197,216,134],[199,216,134],[200,215,134],[201,215,134],[202,215,134],[203,215,134],[204,215,134],[205,215,135],[206,215,135],[207,215,135],[208,214,135],[210,214,135],[211,214,135],[212,214,135],[213,214,135],[214,214,135],[215,214,135],[216,214,135],[217,213,135],[218,213,136],[219,213,136],[221,213,136],[222,213,136],[223,213,136],[224,213,136],[225,213,136],[226,213,136],[227,212,136],[228,212,136],[229,212,136],[231,212,136],[232,212,137],[233,212,137],[234,212,137],[235,212,137],[236,211,137],[237,211,137],[238,211,137],[239,211,137],[240,211,137],[242,211,137],[243,211,137],[244,211,138],[245,210,138],[246,210,138],[247,210,138],[248,210,138],[249,210,138],[250,210,138],[251,210,138],[253,210,138],[254,209,138],[254,209,138],[254,208,137],[254,207,137],[253,206,136],[253,205,135],[253,204,134],[252,203,134],[252,202,133],[252,201,132],[252,200,131],[251,199,131],[251,198,130],[251,197,129],[250,196,129],[250,196,128],[250,195,127],[250,194,126],[249,193,126],[249,192,125],[249,191,124],[249,190,123],[248,189,123],[248,188,122],[248,187,121],[247,186,121],[247,185,120],[247,184,119],[247,183,118],[246,182,118],[246,181,117],[246,180,116],[245,179,115],[245,178,115],[245,177,114],[245,176,113],[244,175,113],[244,174,112],[244,173,111],[243,173,110],[243,172,110],[243,171,109],[243,170,108],[242,169,107],[242,168,107],[242,167,106],[242,166,105],[241,165,105],[241,164,104],[241,163,103],[240,162,102],[240,161,102],[240,160,101],[240,159,100],[239,158,99],[239,157,99],[239,156,98],[238,155,97],[238,154,97],[238,153,96],[238,152,95],[237,151,94],[237,151,94],[237,150,93],[237,149,92],[236,147,91],[236,145,90],[236,144,89],[236,142,88],[236,140,86],[236,139,85],[236,137,84],[236,135,83],[236,133,82],[236,132,81],[236,130,79],[236,128,78],[236,127,77],[236,125,76],[236,123,75],[236,121,74],[236,120,72],[236,118,71],[236,116,70],[236,115,69],[236,113,68],[236,111,67],[236,109,65],[236,108,64],[236,106,63],[236,104,62],[235,103,61],[235,101,60],[235,99,58],[235,98,57],[235,96,56],[235,94,55],[235,92,54],[235,91,53],[235,89,52],[235,87,50],[235,86,49],[235,84,48],[235,82,47],[235,80,46],[235,79,45],[235,77,43],[235,75,42],[235,74,41],[235,72,40],[235,70,39],[235,68,38],[235,67,36],[235,65,35],[235,63,34],[235,62,33],[235,60,32],[235,58,31],[235,57,29],[234,55,28],[234,53,27],[234,51,26],[234,50,25],[234,48,24],[234,46,22],[234,45,21],[234,43,20],[234,41,19],[234,39,18]])\n",
    "my_rainbow = colors.ListedColormap(C/255.0)\n",
    "\n"
   ]
  },
  {
   "cell_type": "code",
   "execution_count": 2,
   "metadata": {},
   "outputs": [
    {
     "name": "stdout",
     "output_type": "stream",
     "text": [
      "--- Read /Users/yjzhu/Desktop/Solar/Num/rh15d_mgf_test/rh15d/dMe_F11_d3_Ec85_v5_Mg/output/output_aux.hdf5 file.\n",
      "--- Read /Users/yjzhu/Desktop/Solar/Num/rh15d_mgf_test/rh15d/dMe_F11_d3_Ec85_v5_Mg/output/output_indata.hdf5 file.\n",
      "--- Read /Users/yjzhu/Desktop/Solar/Num/rh15d_mgf_test/rh15d/dMe_F11_d3_Ec85_v5_Mg/output/output_ray.hdf5 file.\n"
     ]
    },
    {
     "name": "stderr",
     "output_type": "stream",
     "text": [
      "/Users/yjzhu/.local/lib/python3.7/site-packages/helita-0.9.0-py3.7-macosx-10.9-x86_64.egg/helita/sim/rh15d.py:40: FutureWarning: The autoclose argument is no longer used by xarray.open_dataset() and is now ignored; it will be removed in xarray v0.12. If necessary, you can control the maximum number of simultaneous open files with xarray.set_options(file_cache_maxsize=...).\n",
      "  setattr(self, g, xr.open_dataset(infile, group=g, autoclose=True))\n",
      "/Users/yjzhu/.local/lib/python3.7/site-packages/helita-0.9.0-py3.7-macosx-10.9-x86_64.egg/helita/sim/rh15d.py:53: FutureWarning: The autoclose argument is no longer used by xarray.open_dataset() and is now ignored; it will be removed in xarray v0.12. If necessary, you can control the maximum number of simultaneous open files with xarray.set_options(file_cache_maxsize=...).\n",
      "  self.ray = xr.open_dataset(infile, autoclose=True)\n",
      "/anaconda3/lib/python3.7/site-packages/h5py/_hl/dataset.py:313: H5pyDeprecationWarning: dataset.value has been deprecated. Use dataset[()] instead.\n",
      "  \"Use dataset[()] instead.\", H5pyDeprecationWarning)\n"
     ]
    },
    {
     "ename": "NameError",
     "evalue": "name 't_index_' is not defined",
     "output_type": "error",
     "traceback": [
      "\u001b[0;31m---------------------------------------------------------------------------\u001b[0m",
      "\u001b[0;31mNameError\u001b[0m                                 Traceback (most recent call last)",
      "\u001b[0;32m<ipython-input-2-a8e018d5d627>\u001b[0m in \u001b[0;36m<module>\u001b[0;34m\u001b[0m\n\u001b[1;32m     55\u001b[0m \u001b[0;34m\u001b[0m\u001b[0m\n\u001b[1;32m     56\u001b[0m             \u001b[0;32mif\u001b[0m \u001b[0mii\u001b[0m \u001b[0;34m==\u001b[0m \u001b[0;36m0\u001b[0m\u001b[0;34m:\u001b[0m\u001b[0;34m\u001b[0m\u001b[0;34m\u001b[0m\u001b[0m\n\u001b[0;32m---> 57\u001b[0;31m                 ln, = intensity_grid[ii][0].plot(height_i,temperature[t_index_,0].dropna('height'),color=colors[ii],\n\u001b[0m\u001b[1;32m     58\u001b[0m                                                  linewidth=2,label = timet_step[jj])\n\u001b[1;32m     59\u001b[0m                 \u001b[0mintensity_grid\u001b[0m\u001b[0;34m[\u001b[0m\u001b[0mii\u001b[0m\u001b[0;34m]\u001b[0m\u001b[0;34m[\u001b[0m\u001b[0;36m1\u001b[0m\u001b[0;34m]\u001b[0m\u001b[0;34m.\u001b[0m\u001b[0mplot\u001b[0m\u001b[0;34m(\u001b[0m\u001b[0mheight_ii\u001b[0m\u001b[0;34m,\u001b[0m\u001b[0melectron_density_i\u001b[0m\u001b[0;34m/\u001b[0m\u001b[0;36m1e6\u001b[0m\u001b[0;34m,\u001b[0m\u001b[0mcolor\u001b[0m\u001b[0;34m=\u001b[0m\u001b[0mcolors\u001b[0m\u001b[0;34m[\u001b[0m\u001b[0mii\u001b[0m\u001b[0;34m]\u001b[0m\u001b[0;34m,\u001b[0m\u001b[0mlinewidth\u001b[0m\u001b[0;34m=\u001b[0m\u001b[0;36m2\u001b[0m\u001b[0;34m,\u001b[0m\u001b[0mlabel\u001b[0m \u001b[0;34m=\u001b[0m \u001b[0mtimet_step\u001b[0m\u001b[0;34m[\u001b[0m\u001b[0mjj\u001b[0m\u001b[0;34m]\u001b[0m\u001b[0;34m)\u001b[0m\u001b[0;34m\u001b[0m\u001b[0;34m\u001b[0m\u001b[0m\n",
      "\u001b[0;31mNameError\u001b[0m: name 't_index_' is not defined"
     ]
    },
    {
     "data": {
      "image/png": "[encoded data removed]",
      "text/plain": [
       "<Figure size 720x1008 with 15 Axes>"
      ]
     },
     "metadata": {
      "needs_background": "light"
     },
     "output_type": "display_data"
    }
   ],
   "source": [
    "B_Params = [('11','85'),('11','150'),('11','200'),('11','350'),('11','500')]\n",
    "panel = ['a) ','b)', 'c) ','d) ','e)',\n",
    "        'f) ', 'g) ','h) ','i) ','j) ',\n",
    "        'k) ', 'l) ','m) ', 'n)', 'o)']\n",
    "colors = ['#F596AA','#E83015','#FFB11B','#90B44B','#66BAB7','#8A6BBE']\n",
    "t_steps = [0,5,10,15,25,40]\n",
    "labels = [r'$t=0.0\\ \\mathrm{s}$',r'$t=2.6\\ \\mathrm{s}$',r'$t=6.3\\ \\mathrm{s}$',r'$t=7.4\\ \\mathrm{s}$',r'$t=8.28\\ \\mathrm{s}$',r'$t=10.20\\ \\mathrm{s}$',\n",
    "         r'$t=23.53\\ \\mathrm{s}$']\n",
    "intensity_grid_label = r'$\\mathrm{C\\ II\\ 1334}$'\n",
    "leg = []\n",
    "fig,((ax1,ax2,ax3),(ax4,ax5,ax6),(ax7,ax8,ax9),(ax10,ax11,ax12),(ax13,ax14,ax15)) = plt.subplots(5,3,figsize=(10,14))\n",
    "\n",
    "intensity_grid = [(ax1,ax2,ax3),(ax4,ax5,ax6),(ax7,ax8,ax9),(ax10,ax11,ax12),(ax13,ax14,ax15)]\n",
    "\n",
    "for intensity_ax_ in [ax2,ax3,ax5,ax6,ax8,ax9,ax11,ax12]:\n",
    "    intensity_ax_.get_xaxis().set_visible(False)\n",
    "    intensity_ax_.get_yaxis().set_visible(False)\n",
    "    \n",
    "for intensity_ax_ in [ax1,ax4,ax7,ax10]:\n",
    "    intensity_ax_.get_xaxis().set_visible(False)\n",
    "\n",
    "for intensity_ax_ in [ax14,ax15]:\n",
    "    intensity_ax_.get_yaxis().set_visible(False)  \n",
    "    \n",
    "for intensity_ax_grid_ in intensity_grid[1:]:\n",
    "    ax1.get_shared_y_axes().join(ax1, intensity_ax_grid_[0])\n",
    "    ax2.get_shared_y_axes().join(ax1, intensity_ax_grid_[1])\n",
    "    ax3.get_shared_y_axes().join(ax1, intensity_ax_grid_[2])\n",
    "    \n",
    "plt.subplots_adjust(bottom = 0.08,left=0.10,right=0.975,top=0.9,wspace=0.05,hspace=0.07)  \n",
    "\n",
    "for ii,B_Params_ in enumerate(B_Params):\n",
    "    atmos_filename = '/Users/yjzhu/Desktop/Solar/Num/rh15d_mgf_test/Atmos/dMe/F'+B_Params_[0]+'_d3_Ec'+B_Params_[1]+'_tv15.hdf5'\n",
    "    data_filename = '/Users/yjzhu/Desktop/Solar/Num/rh15d_mgf_test/rh15d/dMe_F'+B_Params_[0]+'_d3_Ec'+B_Params_[1]+'_v5_Mg/output'\n",
    "    data_atmos = h5py.File(atmos_filename,'r')\n",
    "    data = rh15d.Rh15dout(data_filename)\n",
    "    height_out = data.atmos.height_scale\n",
    "    height = data_atmos['z'].value\n",
    "    temperature = data.atmos.temperature\n",
    "    electron_density = data_atmos['electron_density'].value\n",
    "    velocity_z = data_atmos['velocity_z'].value\n",
    "    \n",
    "    timet = data_atmos['timet'].value\n",
    "    timet = data_atmos['timet'].value\n",
    "    timet_c = [timet[step_c] for step_c in t_steps]\n",
    "    timet_step = [r'$t = $'+\"{:.1f}\".format(timet_)+r' s' for timet_ in timet_c]\n",
    "        \n",
    "    if ii !=3:\n",
    "        for jj,step_ in enumerate(t_steps):\n",
    "            height_t_index = len(height_out[step_,0].dropna('height'))\n",
    "            height_i = height[0,step_,0,-height_t_index:]/1e6\n",
    "            height_ii = height[0,step_,0,:]/1e6\n",
    "            electron_density_i = electron_density[0,step_,0,:]\n",
    "            velocity_z_i = velocity_z[0,step_,0,:]/1e3\n",
    "            \n",
    "            if ii == 0:\n",
    "                ln, = intensity_grid[ii][0].plot(height_i,temperature[step_,0].dropna('height'),color=colors[jj],\n",
    "                                                 linewidth=2,label = timet_step[jj])\n",
    "                intensity_grid[ii][1].plot(height_ii,electron_density_i/1e6,color=colors[jj],linewidth=2,label = timet_step[jj])\n",
    "                \n",
    "                intensity_grid[ii][2].plot(height_ii,velocity_z_i,color=colors[jj],linewidth=2,label=labels[ii])\n",
    "                leg.append(ln)\n",
    "            else:\n",
    "                ax_.plot((flux_band.coords['wavelength']-sta_wvl)*10,flux_band[step_]-flux_band[0],color=colors[jj])\n",
    "    else:\n",
    "        for jj,step_ in enumerate(t_steps[:-1]):\n",
    "            height_t_index = len(height_out[step_,0].dropna('height'))\n",
    "            height_i = height[0,step_,0,-height_t_index:]/1e6\n",
    "            height_ii = height[0,step_,0,:]/1e6\n",
    "            electron_density_i = electron_density[0,step_,0,:]\n",
    "            velocity_z_i = velocity_z[0,step_,0,:]/1e3\n",
    "            \n",
    "            if ii == 0:\n",
    "                ln, = intensity_grid[ii][0].plot(height_i,temperature[step_,0].dropna('height'),color=colors[jj],\n",
    "                                                 linewidth=2,label = timet_step[jj])\n",
    "                intensity_grid[ii][1].plot(height_ii,electron_density_i/1e6,color=colors[jj],linewidth=2,label = timet_step[jj])\n",
    "                \n",
    "                intensity_grid[ii][2].plot(height_ii,velocity_z_i,color=colors[jj],linewidth=2,label=labels[ii])\n",
    "                leg.append(ln)\n",
    "            else:\n",
    "                ax_.plot((flux_band.coords['wavelength']-sta_wvl)*10,flux_band[step_]-flux_band[0],color=colors[jj])\n",
    "    \n",
    "    grid_title = panel[ii] + r'$\\mathrm{1F' + B_Params[ii][0] + r'E_c' +B_Params[ii][1] +r'}$'\n",
    "    ax_.set_title(grid_title,position=(0.05,0.85),loc='left',fontsize=13)\n",
    "    ax_.tick_params(labelsize=14)\n",
    "    \n",
    "    \n",
    "    #del im\n",
    "\n",
    "    \n",
    "for ax_ in [ax13,ax14,ax15]:\n",
    "    ax_.set_xlabel(r'$\\Delta \\lambda \\ \\mathrm{\\left(\\AA\\right)}$',fontsize = 14)\n",
    "\n",
    "for ax_ in [ax1,ax4,ax7,ax10,ax13]:\n",
    "    ax_.set_ylabel(r'Normalized Subtracted Flux',fontsize = 14)\n",
    "\n",
    "print(leg)\n",
    "ax1.legend(leg,[leg_.get_label() for leg_ in leg],bbox_to_anchor=(1.2,1.2,2,.102),ncol=6,fontsize=14)  \n",
    "plt.subplots_adjust(bottom = 0.08,left=0.08,right=0.975,top=0.95)\n",
    "#plt.savefig(fname = '../figs/dMe_MgIIh_spec.eps', dpi = 300, format = 'eps')\n"
   ]
  },
  {
   "cell_type": "code",
   "execution_count": null,
   "metadata": {},
   "outputs": [],
   "source": [
    "           ('12','85'),('12','150'),('12','200'),('12','350'),('12','500'),\n",
    "           ('13','85'),('13','150'),('13','200'),('13','350'),('13','500'),]"
   ]
  }
 ],
 "metadata": {
  "kernelspec": {
   "display_name": "Python 3",
   "language": "python",
   "name": "python3"
  },
  "language_info": {
   "codemirror_mode": {
    "name": "ipython",
    "version": 3
   },
   "file_extension": ".py",
   "mimetype": "text/x-python",
   "name": "python",
   "nbconvert_exporter": "python",
   "pygments_lexer": "ipython3",
   "version": "3.7.1"
  }
 },
 "nbformat": 4,
 "nbformat_minor": 2
}
